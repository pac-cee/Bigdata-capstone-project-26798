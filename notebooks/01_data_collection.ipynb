{
 "cells": [
  {
   "cell_type": "markdown",
   "metadata": {},
   "source": [
    "# 📊 Cryptocurrency Data Collection\n",
    "\n",
    "**Project**: Cryptocurrency Market Intelligence System  \n",
    "**Author**: [Your Name]  \n",
    "**Course**: INSY 8413 | Introduction to Big Data Analytics  \n",
    "**Date**: July 26, 2025\n",
    "\n",
    "## 🎯 Objectives\n",
    "1. Collect 6 months of historical data for 5 major cryptocurrencies\n",
    "2. Gather data at multiple timeframes (5-minute and hourly intervals)\n",
    "3. Include price, volume, and trading metrics\n",
    "4. Validate data quality and completeness\n",
    "\n",
    "## 📈 Cryptocurrencies\n",
    "- **Bitcoin (BTC)** - Market leader\n",
    "- **Ethereum (ETH)** - Smart contracts platform\n",
    "- **Binance Coin (BNB)** - Exchange token\n",
    "- **Cardano (ADA)** - Proof-of-stake blockchain\n",
    "- **Solana (SOL)** - High-performance blockchain"
   ]
  },
  {
   "cell_type": "code",
   "execution_count": null,
   "metadata": {},
   "outputs": [],
   "source": [
    "# Import required libraries\n",
    "import sys\n",
    "import os\n",
    "\n",
    "# Add src directory to path\n",
    "sys.path.append('../src')\n",
    "\n",
    "import pandas as pd\n",
    "import numpy as np\n",
    "import matplotlib.pyplot as plt\n",
    "import seaborn as sns\n",
    "from datetime import datetime, timedelta\n",
    "import warnings\n",
    "warnings.filterwarnings('ignore')\n",
    "\n",
    "# Import our custom modules\n",
    "from data_collector import BinanceDataCollector\n",
    "from utils import CRYPTO_SYMBOLS, print_data_summary\n",
    "\n",
    "# Set plotting style\n",
    "plt.style.use('seaborn-v0_8')\n",
    "sns.set_palette(\"husl\")\n",
    "\n",
    "print(\"📚 Libraries imported successfully!\")\n",
    "print(f\"🕐 Analysis started at: {datetime.now()}\")"
   ]
  },
  {
   "cell_type": "markdown",
   "metadata": {},
   "source": [
    "## 🔧 Initialize Data Collector"
   ]
  },
  {
   "cell_type": "code",
   "execution_count": null,
   "metadata": {},
   "outputs": [],
   "source": [
    "# Initialize the Binance data collector\n",
    "collector = BinanceDataCollector()\n",
    "\n",
    "print(\"🚀 Binance Data Collector initialized!\")\n",
    "print(f\"📡 Base URL: {collector.base_url}\")\n",
    "print(f\"⏱️ Rate limit: {collector.min_request_interval}s between requests\")"
   ]
  },
  {
   "cell_type": "markdown",
   "metadata": {},
   "source": [
    "## 💰 Current Market Prices"
   ]
  },
  {
   "cell_type": "code",
   "execution_count": null,
   "metadata": {},
   "outputs": [],
   "source": [
    "# Get current prices for all cryptocurrencies\n",
    "print(\"📊 Fetching current market prices...\")\n",
    "current_prices = collector.get_current_prices()\n",
    "\n",
    "# Display current prices\n",
    "print(\"\\n💰 CURRENT CRYPTOCURRENCY PRICES\")\n",
    "print(\"=\" * 40)\n",
    "for symbol, price in current_prices.items():\n",
    "    crypto_name = CRYPTO_SYMBOLS[symbol]\n",
    "    print(f\"{crypto_name:15} ({symbol}): ${price:>10,.2f}\")\n",
    "\n",
    "# Create a simple price comparison chart\n",
    "plt.figure(figsize=(12, 6))\n",
    "symbols = list(current_prices.keys())\n",
    "prices = list(current_prices.values())\n",
    "colors = sns.color_palette(\"husl\", len(symbols))\n",
    "\n",
    "bars = plt.bar(symbols, prices, color=colors)\n",
    "plt.title('Current Cryptocurrency Prices (USD)', fontsize=16, fontweight='bold')\n",
    "plt.xlabel('Cryptocurrency', fontsize=12)\n",
    "plt.ylabel('Price (USD)', fontsize=12)\n",
    "plt.yscale('log')  # Log scale due to large price differences\n",
    "\n",
    "# Add value labels on bars\n",
    "for bar, price in zip(bars, prices):\n",
    "    plt.text(bar.get_x() + bar.get_width()/2, bar.get_height(), \n",
    "             f'${price:,.0f}', ha='center', va='bottom', fontweight='bold')\n",
    "\n",
    "plt.grid(True, alpha=0.3)\n",
    "plt.tight_layout()\n",
    "plt.show()"
   ]
  },
  {
   "cell_type": "markdown",
   "metadata": {},
   "source": [
    "## 📈 Historical Data Collection\n",
    "\n",
    "Now we'll collect 6 months of historical data for each cryptocurrency at different time intervals."
   ]
  },
  {
   "cell_type": "code",
   "execution_count": null,
   "metadata": {},
   "outputs": [],
   "source": [
    "# Define collection parameters\n",
    "INTERVALS = ['5m', '1h']  # 5-minute and hourly data\n",
    "MONTHS_BACK = 6\n",
    "\n",
    "print(f\"📅 Collecting {MONTHS_BACK} months of historical data\")\n",
    "print(f\"⏰ Time intervals: {', '.join(INTERVALS)}\")\n",
    "print(f\"🪙 Cryptocurrencies: {', '.join(CRYPTO_SYMBOLS.keys())}\")\n",
    "print(\"\\n🔄 Starting data collection...\")\n",
    "\n",
    "# Collect all data\n",
    "all_historical_data = collector.collect_all_cryptocurrencies(\n",
    "    intervals=INTERVALS, \n",
    "    months_back=MONTHS_BACK\n",
    ")\n",
    "\n",
    "print(\"\\n✅ Data collection completed!\")"
   ]
  },
  {
   "cell_type": "markdown",
   "metadata": {},
   "source": [
    "## 📊 Data Quality Assessment"
   ]
  },
  {
   "cell_type": "code",
   "execution_count": null,
   "metadata": {},
   "outputs": [],
   "source": [
    "# Assess data quality for each cryptocurrency and interval\n",
    "print(\"🔍 DATA QUALITY ASSESSMENT\")\n",
    "print(\"=\" * 50)\n",
    "\n",
    "data_summary = {}\n",
    "\n",
    "for symbol in all_historical_data:\n",
    "    data_summary[symbol] = {}\n",
    "    print(f\"\\n📊 {CRYPTO_SYMBOLS[symbol]} ({symbol})\")\n",
    "    print(\"-\" * 30)\n",
    "    \n",
    "    for interval in all_historical_data[symbol]:\n",
    "        df = all_historical_data[symbol][interval]\n",
    "        \n",
    "        # Calculate summary statistics\n",
    "        records = len(df)\n",
    "        date_range = f\"{df.index.min().date()} to {df.index.max().date()}\"\n",
    "        missing_values = df.isnull().sum().sum()\n",
    "        avg_price = df['close'].mean()\n",
    "        price_volatility = df['close'].std()\n",
    "        avg_volume = df['volume'].mean()\n",
    "        \n",
    "        data_summary[symbol][interval] = {\n",
    "            'records': records,\n",
    "            'date_range': date_range,\n",
    "            'missing_values': missing_values,\n",
    "            'avg_price': avg_price,\n",
    "            'price_volatility': price_volatility,\n",
    "            'avg_volume': avg_volume\n",
    "        }\n",
    "        \n",
    "        print(f\"  {interval:3} interval: {records:>6,} records | {date_range} | Missing: {missing_values}\")\n",
    "        print(f\"      Avg Price: ${avg_price:>8,.2f} | Volatility: ${price_volatility:>8,.2f}\")\n",
    "        print(f\"      Avg Volume: {avg_volume:>12,.0f}\")\n",
    "\n",
    "print(f\"\\n📁 Raw data files saved to: ../data/raw/\")"
   ]
  },
  {
   "cell_type": "markdown",
   "metadata": {},
   "source": [
    "## 📈 Quick Data Visualization"
   ]
  },
  {
   "cell_type": "code",
   "execution_count": null,
   "metadata": {},
   "outputs": [],
   "source": [
    "# Create a quick visualization of price trends\n",
    "fig, axes = plt.subplots(2, 3, figsize=(18, 12))\n",
    "fig.suptitle('Cryptocurrency Price Trends (Hourly Data - Last 6 Months)', fontsize=16, fontweight='bold')\n",
    "\n",
    "symbols = list(all_historical_data.keys())\n",
    "colors = sns.color_palette(\"husl\", len(symbols))\n",
    "\n",
    "for i, symbol in enumerate(symbols):\n",
    "    row = i // 3\n",
    "    col = i % 3\n",
    "    \n",
    "    if symbol in all_historical_data and '1h' in all_historical_data[symbol]:\n",
    "        df = all_historical_data[symbol]['1h']\n",
    "        \n",
    "        axes[row, col].plot(df.index, df['close'], color=colors[i], linewidth=1.5)\n",
    "        axes[row, col].set_title(f'{CRYPTO_SYMBOLS[symbol]} ({symbol})', fontweight='bold')\n",
    "        axes[row, col].set_ylabel('Price (USD)')\n",
    "        axes[row, col].grid(True, alpha=0.3)\n",
    "        axes[row, col].tick_params(axis='x', rotation=45)\n",
    "\n",
    "# Remove empty subplot\n",
    "if len(symbols) < 6:\n",
    "    fig.delaxes(axes[1, 2])\n",
    "\n",
    "plt.tight_layout()\n",
    "plt.show()"
   ]
  },
  {
   "cell_type": "markdown",
   "metadata": {},
   "source": [
    "## 📋 Collection Summary"
   ]
  },
  {
   "cell_type": "code",
   "execution_count": null,
   "metadata": {},
   "outputs": [],
   "source": [
    "# Create and save collection summary\n",
    "import json\n",
    "\n",
    "collection_summary = {\n",
    "    'collection_date': datetime.now().isoformat(),\n",
    "    'project_title': 'Cryptocurrency Market Intelligence System',\n",
    "    'cryptocurrencies': list(CRYPTO_SYMBOLS.keys()),\n",
    "    'intervals': INTERVALS,\n",
    "    'months_collected': MONTHS_BACK,\n",
    "    'current_prices': current_prices,\n",
    "    'data_summary': data_summary\n",
    "}\n",
    "\n",
    "# Save summary to file\n",
    "os.makedirs('../data/raw', exist_ok=True)\n",
    "with open('../data/raw/collection_summary.json', 'w') as f:\n",
    "    json.dump(collection_summary, f, indent=2, default=str)\n",
    "\n",
    "print(\"📊 COLLECTION SUMMARY\")\n",
    "print(\"=\" * 30)\n",
    "print(f\"📅 Collection Date: {datetime.now().strftime('%Y-%m-%d %H:%M:%S')}\")\n",
    "print(f\"🪙 Cryptocurrencies: {len(CRYPTO_SYMBOLS)}\")\n",
    "print(f\"⏰ Time Intervals: {len(INTERVALS)}\")\n",
    "print(f\"📈 Total Datasets: {len(CRYPTO_SYMBOLS) * len(INTERVALS)}\")\n",
    "\n",
    "total_records = sum(\n",
    "    len(all_historical_data[symbol][interval]) \n",
    "    for symbol in all_historical_data \n",
    "    for interval in all_historical_data[symbol]\n",
    ")\n",
    "print(f\"📊 Total Records: {total_records:,}\")\n",
    "print(f\"💾 Summary saved to: ../data/raw/collection_summary.json\")\n",
    "\n",
    "print(\"\\n✅ Data collection notebook completed successfully!\")\n",
    "print(\"➡️ Next step: Data Cleaning and Preprocessing (02_data_cleaning.ipynb)\")"
   ]
  }
 ],
 "metadata": {
  "kernelspec": {
   "display_name": "Python 3",
   "language": "python",
   "name": "python3"
  },
  "language_info": {
   "codemirror_mode": {
    "name": "ipython",
    "version": 3
   },
   "file_extension": ".py",
   "mimetype": "text/x-python",
   "name": "python",
   "nbconvert_exporter": "python",
   "pygments_lexer": "ipython3",
   "version": "3.8.5"
  }
 },
 "nbformat": 4,
 "nbformat_minor": 4
}
